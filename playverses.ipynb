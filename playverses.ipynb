{
 "cells": [
  {
   "cell_type": "code",
   "execution_count": 1,
   "id": "17df7371",
   "metadata": {},
   "outputs": [],
   "source": [
    "import numpy as np\n",
    "import matplotlib.pyplot as plt\n",
    "import scipy as sp\n",
    "from scipy.integrate import quad"
   ]
  },
  {
   "cell_type": "code",
   "execution_count": 2,
   "id": "09b6dc81",
   "metadata": {},
   "outputs": [],
   "source": [
    "def integrand(a, om_m0, om_lam0):\n",
    "    om_0 = om_m0 + om_lam0\n",
    "    \n",
    "    om_matter = om_m0 / a\n",
    "    curvature = 1 - om_0\n",
    "    om_lambda = om_lam0 * (a**2)\n",
    "    \n",
    "    \n",
    "    return (om_matter + curvature + om_lambda) ** (-1/2)"
   ]
  },
  {
   "cell_type": "code",
   "execution_count": 3,
   "id": "96081c56",
   "metadata": {},
   "outputs": [],
   "source": [
    "def compute_a_and_t(om_m0, om_lam0, iterations):\n",
    "    \"\"\"\n",
    "    Given a density parameter and something else, it returns two arrays:\n",
    "    - array containg the values of a\n",
    "    - array containg the values of t\n",
    "    \n",
    "    Besides the two arrays, it returns H0 as well.\n",
    "    \n",
    "    ## Example\n",
    "    \n",
    "    (a_s, t_s, H0) = compute_a_and_t(1, 0)\n",
    "    \n",
    "    \"\"\"\n",
    "    H = 71\n",
    "    Mpc = 3.085677581e+19 # kms\n",
    "    km = 1.0\n",
    "    Gyr= 3.1536e16 # seconds\n",
    "    H0 = (H * Gyr * km / Mpc)\n",
    "    \n",
    "    t0 = ((quad(integrand,0, 1, args=(om_m0, om_lam0)))[0]) / H0\n",
    "\n",
    "    t_s = []\n",
    "    a_s = []\n",
    "\n",
    "    for i in range(1, iterations + 1):\n",
    "        step = i / 10\n",
    "    \n",
    "        integral_result = quad(integrand, 0, step, args=(om_m0, om_lam0))[0]\n",
    "        t = integral_result / H0 \n",
    "    \n",
    "        a_s.append(step)\n",
    "        t_s.append(t)\n",
    "        \n",
    "    return (a_s, t_s, H0, t0)"
   ]
  },
  {
   "cell_type": "code",
   "execution_count": 4,
   "id": "224b263a",
   "metadata": {},
   "outputs": [],
   "source": [
    "final_results = []\n",
    "\n",
    "for (om_mat, om_lam) in [(1, 0)]:\n",
    "    (a_s, t_s, H0, t0) = compute_a_and_t(om_mat, om_lam, 1000)\n",
    "    \n",
    "    data = {\"om_mat\": om_mat, \"om_lam\": om_lam, \"a\": a_s, \"t\": t_s, \"h\": H0, \"tzero\": t0}\n",
    "    \n",
    "    final_results.append(data)"
   ]
  },
  {
   "cell_type": "code",
   "execution_count": 11,
   "id": "d06ec10b",
   "metadata": {},
   "outputs": [
    {
     "ename": "TypeError",
     "evalue": "unsupported operand type(s) for ** or pow(): 'list' and 'float'",
     "output_type": "error",
     "traceback": [
      "\u001b[0;31m---------------------------------------------------------------------------\u001b[0m",
      "\u001b[0;31mTypeError\u001b[0m                                 Traceback (most recent call last)",
      "\u001b[0;32m/var/folders/92/lch654g970bbnp6xj7dvsbxh0000gn/T/ipykernel_870/1753549339.py\u001b[0m in \u001b[0;36m<module>\u001b[0;34m\u001b[0m\n\u001b[1;32m     16\u001b[0m                 pyomlam = pyomlam, om_lam = result[\"om_lam\"], pyommat = pyommat, om_mat = result[\"om_mat\"]))\n\u001b[1;32m     17\u001b[0m \u001b[0;34m\u001b[0m\u001b[0m\n\u001b[0;32m---> 18\u001b[0;31m     \u001b[0mplt\u001b[0m\u001b[0;34m.\u001b[0m\u001b[0mplot\u001b[0m\u001b[0;34m(\u001b[0m \u001b[0;34m(\u001b[0m \u001b[0;34m(\u001b[0m\u001b[0mnp\u001b[0m\u001b[0;34m.\u001b[0m\u001b[0marray\u001b[0m\u001b[0;34m(\u001b[0m\u001b[0mresult\u001b[0m\u001b[0;34m[\u001b[0m\u001b[0;34m\"t\"\u001b[0m\u001b[0;34m]\u001b[0m\u001b[0;34m)\u001b[0m\u001b[0;34m)\u001b[0m \u001b[0;34m/\u001b[0m \u001b[0mresult\u001b[0m\u001b[0;34m[\u001b[0m\u001b[0;34m\"tzero\"\u001b[0m\u001b[0;34m]\u001b[0m\u001b[0;34m)\u001b[0m\u001b[0;34m)\u001b[0m \u001b[0;34m**\u001b[0m \u001b[0;34m(\u001b[0m\u001b[0;36m2\u001b[0m\u001b[0;34m/\u001b[0m\u001b[0;36m3\u001b[0m\u001b[0;34m)\u001b[0m\u001b[0;34m,\u001b[0m \u001b[0mnp\u001b[0m\u001b[0;34m.\u001b[0m\u001b[0marray\u001b[0m\u001b[0;34m(\u001b[0m\u001b[0mresult\u001b[0m\u001b[0;34m[\u001b[0m\u001b[0;34m\"a\"\u001b[0m\u001b[0;34m]\u001b[0m\u001b[0;34m)\u001b[0m\u001b[0;34m\u001b[0m\u001b[0;34m\u001b[0m\u001b[0m\n\u001b[0m\u001b[1;32m     19\u001b[0m     \u001b[0mplt\u001b[0m\u001b[0;34m.\u001b[0m\u001b[0mlegend\u001b[0m\u001b[0;34m(\u001b[0m\u001b[0;34m)\u001b[0m\u001b[0;34m\u001b[0m\u001b[0;34m\u001b[0m\u001b[0m\n\u001b[1;32m     20\u001b[0m \u001b[0;34m\u001b[0m\u001b[0m\n",
      "\u001b[0;31mTypeError\u001b[0m: unsupported operand type(s) for ** or pow(): 'list' and 'float'"
     ]
    },
    {
     "data": {
      "image/png": "[encoded data removed]",
      "text/plain": [
       "<Figure size 576x432 with 1 Axes>"
      ]
     },
     "metadata": {
      "needs_background": "light"
     },
     "output_type": "display_data"
    }
   ],
   "source": [
    "fig = plt.figure(figsize=(8, 6))\n",
    "plt.title(\"Scale factor evolution in time\")\n",
    "plt.xlabel(r\"$H_0 (t-t_0)$\")\n",
    "plt.ylabel(\"a(t)\")\n",
    "plt.grid(True)\n",
    "plt.xlim(-15,100)\n",
    "plt.ylim(0,50)\n",
    "\n",
    "pyomlam = (r\"$\\Omega_{\\Lambda,0}$\")\n",
    "pyommat = (r\"$\\Omega_{m, 0}$\")\n",
    "\n",
    "\n",
    "for result in final_results:\n",
    "    plt.plot(result[\"h\"] * (np.array(result[\"t\"]) - result[\"tzero\"]), np.array(result[\"a\"]),\n",
    "            label = \"{pyomlam} = {om_lam}, {pyommat} = {om_mat}\".format(\n",
    "                pyomlam = pyomlam, om_lam = result[\"om_lam\"], pyommat = pyommat, om_mat = result[\"om_mat\"]))\n",
    "    \n",
    "    plt.plot( , np.array(result[\"a\"]))\n",
    "    plt.legend()\n",
    "    "
   ]
  },
  {
   "cell_type": "code",
   "execution_count": 6,
   "id": "32a88597",
   "metadata": {},
   "outputs": [
    {
     "data": {
      "image/png": "[encoded data removed]",
      "text/plain": [
       "<Figure size 576x432 with 1 Axes>"
      ]
     },
     "metadata": {
      "needs_background": "light"
     },
     "output_type": "display_data"
    }
   ],
   "source": [
    "fig = plt.figure(figsize = (8,6))\n",
    "for result in final_results:\n",
    "    plt.plot(result[\"h\"] * (np.array(result[\"t\"]) - result[\"tzero\"]), np.array(result[\"a\"])**(-1) + 1)\n",
    "    plt.grid(True)"
   ]
  },
  {
   "cell_type": "code",
   "execution_count": null,
   "id": "4988ddb4",
   "metadata": {},
   "outputs": [],
   "source": []
  }
 ],
 "metadata": {
  "kernelspec": {
   "display_name": "Python 3 (ipykernel)",
   "language": "python",
   "name": "python3"
  },
  "language_info": {
   "codemirror_mode": {
    "name": "ipython",
    "version": 3
   },
   "file_extension": ".py",
   "mimetype": "text/x-python",
   "name": "python",
   "nbconvert_exporter": "python",
   "pygments_lexer": "ipython3",
   "version": "3.9.7"
  }
 },
 "nbformat": 4,
 "nbformat_minor": 5
}
